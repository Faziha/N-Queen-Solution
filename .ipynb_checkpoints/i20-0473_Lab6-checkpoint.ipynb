{
 "cells": [
  {
   "cell_type": "code",
   "execution_count": 1,
   "id": "ff84a0a9",
   "metadata": {},
   "outputs": [],
   "source": [
    "board_size = 5"
   ]
  },
  {
   "cell_type": "code",
   "execution_count": 2,
   "id": "e690c740",
   "metadata": {},
   "outputs": [],
   "source": [
    "def print_board(ch):\n",
    "    for i in ch:\n",
    "        for j in range(1,board_size+1):\n",
    "            if i == j:\n",
    "                print (\" Q \",end='')\n",
    "            else:\n",
    "                print(\" * \",end='')\n",
    "        print()"
   ]
  },
  {
   "cell_type": "code",
   "execution_count": 3,
   "id": "8e7dec1a",
   "metadata": {},
   "outputs": [
    {
     "name": "stdout",
     "output_type": "stream",
     "text": [
      "\n",
      "\t\t*************n-queen problem using genetic algorithm***********\n",
      "\n",
      "\n",
      "ENTER SIZE OF POPULATION : 40\n",
      "\n",
      "GENERATION :   1\n",
      "\n",
      "SOLUTION FOUND!!  [1, 3, 5, 2, 4]\n",
      " Q  *  *  *  * \n",
      " *  *  Q  *  * \n",
      " *  *  *  *  Q \n",
      " *  Q  *  *  * \n",
      " *  *  *  Q  * \n"
     ]
    }
   ],
   "source": [
    "#solving n-queen problem using genetic algorithm\n",
    "import random\n",
    "\n",
    "print(\"\\n\\t\\t*************n-queen problem using genetic algorithm***********\\n\")\n",
    "\n",
    "#fitness function\n",
    "def fitness(chromosome):\n",
    "    attacks = 0\n",
    "    for i in range(len(chromosome)):\n",
    "        for j in range(i+1,len(chromosome)):\n",
    "            if abs(chromosome[i]-chromosome[j]) == abs(i-j):\n",
    "                attacks += 1\n",
    "    return 1/(attacks+1)\n",
    "\n",
    "#func to generate chromosome\n",
    "def generate_chromosome():\n",
    "    chromosome = random.sample(range(1, board_size+1), board_size)\n",
    "    return chromosome\n",
    "\n",
    "#func to generate population\n",
    "def generate_population(s):\n",
    "    population = []\n",
    "    for i in range(s):\n",
    "        population.append(generate_chromosome())\n",
    "    return population\n",
    "\n",
    "#func to select two parents\n",
    "def select_parents(population):\n",
    "    fitness_values = [fitness(chromosome) for chromosome in population]\n",
    "    total_fitness = sum(fitness_values)\n",
    "    prob = [fitness/total_fitness for fitness in fitness_values]\n",
    "    parents = []\n",
    "    for i in range(2):\n",
    "        parent_idx = 0\n",
    "        r = random.random()\n",
    "        while r > 0:\n",
    "            r -= prob[parent_idx]\n",
    "            parent_idx += 1\n",
    "        parent_idx -= 1\n",
    "        parents.append(population[parent_idx])\n",
    "    return parents\n",
    "\n",
    "#crossover function\n",
    "def crossover(parents):\n",
    "    crossover_point = random.randint(1,3)\n",
    "    c1 = parents[0][:crossover_point] + parents[1][crossover_point:]\n",
    "    c2 = parents[1][:crossover_point] + parents[0][crossover_point:]\n",
    "    return [c1, c2]\n",
    "\n",
    "#mutation function\n",
    "def mutate(chromosome):\n",
    "    idx = random.randint(0,3)\n",
    "    new_value = random.choice(list(set([1, 2, 3, 4]) - set(chromosome)))\n",
    "    chromosome[idx] = new_value\n",
    "    return chromosome\n",
    "\n",
    "#genetic algo implementation\n",
    "def genetic_algorithm(population_size):\n",
    "    population = generate_population(population_size)\n",
    "    gen = 1\n",
    "    while True:\n",
    "        print(\"\\nGENERATION :  \", gen)\n",
    "        for chromosome in population:\n",
    "            if fitness(chromosome) == 1:\n",
    "                print(\"\\nSOLUTION FOUND!! \", chromosome)\n",
    "                return chromosome\n",
    "        new_population = []\n",
    "        for i in range(population_size//2):\n",
    "            parents = select_parents(population)\n",
    "            children = crossover(parents)\n",
    "            \n",
    "            c1 = mutate(children[0])\n",
    "            c2 = mutate(children[1])\n",
    "            \n",
    "            new_population.append(c1)\n",
    "            new_population.append(c2)\n",
    "            \n",
    "        population = new_population\n",
    "        gen += 1\n",
    "\n",
    "pop_size = int(input(\"\\nENTER SIZE OF POPULATION : \"))\n",
    "ch = genetic_algorithm(pop_size)\n",
    "print_board(ch)"
   ]
  },
  {
   "cell_type": "code",
   "execution_count": null,
   "id": "e08a0d93",
   "metadata": {},
   "outputs": [],
   "source": []
  },
  {
   "cell_type": "code",
   "execution_count": null,
   "id": "6037d681",
   "metadata": {},
   "outputs": [],
   "source": []
  },
  {
   "cell_type": "code",
   "execution_count": null,
   "id": "65817532",
   "metadata": {},
   "outputs": [],
   "source": []
  },
  {
   "cell_type": "code",
   "execution_count": null,
   "id": "7e798f0b",
   "metadata": {},
   "outputs": [],
   "source": []
  },
  {
   "cell_type": "code",
   "execution_count": null,
   "id": "c3902377",
   "metadata": {},
   "outputs": [],
   "source": []
  },
  {
   "cell_type": "code",
   "execution_count": null,
   "id": "71030312",
   "metadata": {},
   "outputs": [],
   "source": []
  }
 ],
 "metadata": {
  "kernelspec": {
   "display_name": "Python 3 (ipykernel)",
   "language": "python",
   "name": "python3"
  },
  "language_info": {
   "codemirror_mode": {
    "name": "ipython",
    "version": 3
   },
   "file_extension": ".py",
   "mimetype": "text/x-python",
   "name": "python",
   "nbconvert_exporter": "python",
   "pygments_lexer": "ipython3",
   "version": "3.9.16"
  }
 },
 "nbformat": 4,
 "nbformat_minor": 5
}
