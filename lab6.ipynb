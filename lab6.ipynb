{
 "cells": [
  {
   "cell_type": "code",
   "execution_count": 3,
   "id": "a5c377e4",
   "metadata": {},
   "outputs": [],
   "source": [
    "def draw_polygon(generation):\n",
    "    window = Screen()\n",
    "    window.title('Genetic Algorithm')\n",
    "    window.screensize(600, 400, bg='black')\n",
    "    window.colormode(255)\n",
    "    draw = Turtle()\n",
    "    draw.hideturtle()\n",
    "    draw.pencolor('white')\n",
    "    draw.speed(8)\n",
    "    def draw_the_shape(optima):\n",
    "        angles = 360 / optima\n",
    "        draw.pendown()\n",
    "        for i in range(optima):\n",
    "            if optima <= 5:\n",
    "                draw.forward(25)\n",
    "            elif optima <= 8:\n",
    "                draw.forward(20)\n",
    "            elif optima <= 10:\n",
    "                draw.forward(14)\n",
    "            elif optima <= 15:\n",
    "                draw.forward(10)\n",
    "            draw.left(angles)\n",
    "    x, y = 0, 0\n",
    "    for i in generation:\n",
    "        x, y = randint(-300, 200), randint(-300, 200)\n",
    "        r, g, b = randint(0, 255), randint(0, 255), randint(0, 255)\n",
    "        draw.pencolor(r,g,b)\n",
    "        draw.penup()\n",
    "        draw.goto(x,y)\n",
    "        draw_the_shape(i)\n",
    "    draw.penup()\n",
    "    draw.goto(x-10,y-12)\n",
    "    draw.write(\"Final Shape\")\n",
    "    window.mainloop()"
   ]
  },
  {
   "cell_type": "code",
   "execution_count": null,
   "id": "43c96cb4",
   "metadata": {},
   "outputs": [],
   "source": []
  }
 ],
 "metadata": {
  "kernelspec": {
   "display_name": "Python 3 (ipykernel)",
   "language": "python",
   "name": "python3"
  },
  "language_info": {
   "codemirror_mode": {
    "name": "ipython",
    "version": 3
   },
   "file_extension": ".py",
   "mimetype": "text/x-python",
   "name": "python",
   "nbconvert_exporter": "python",
   "pygments_lexer": "ipython3",
   "version": "3.9.16"
  }
 },
 "nbformat": 4,
 "nbformat_minor": 5
}
